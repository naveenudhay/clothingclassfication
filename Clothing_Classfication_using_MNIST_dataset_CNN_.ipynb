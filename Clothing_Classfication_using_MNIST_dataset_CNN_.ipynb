{
  "nbformat": 4,
  "nbformat_minor": 0,
  "metadata": {
    "colab": {
      "name": "Clothing Classfication using MNIST dataset CNN - .ipynb",
      "provenance": [],
      "collapsed_sections": [],
      "authorship_tag": "ABX9TyPbICY9mTIUZuy3TAjZmUfs",
      "include_colab_link": true
    },
    "kernelspec": {
      "name": "python3",
      "display_name": "Python 3"
    },
    "accelerator": "GPU"
  },
  "cells": [
    {
      "cell_type": "markdown",
      "metadata": {
        "id": "view-in-github",
        "colab_type": "text"
      },
      "source": [
        "<a href=\"https://colab.research.google.com/github/naveenudhay/clothingclassfication/blob/convolutedneuralnetwork/Clothing_Classfication_using_MNIST_dataset_CNN_.ipynb\" target=\"_parent\"><img src=\"https://colab.research.google.com/assets/colab-badge.svg\" alt=\"Open In Colab\"/></a>"
      ]
    },
    {
      "cell_type": "code",
      "metadata": {
        "id": "5rjNWbZwcaHL",
        "colab_type": "code",
        "colab": {}
      },
      "source": [
        "Import packages"
      ],
      "execution_count": null,
      "outputs": []
    },
    {
      "cell_type": "code",
      "metadata": {
        "id": "HVfPNFwqeOik",
        "colab_type": "code",
        "colab": {}
      },
      "source": [
        "import tensorflow as tf\n",
        "import numpy as ny\n",
        "from tensorflow import keras\n",
        "import matplotlib.pyplot as plt"
      ],
      "execution_count": 1,
      "outputs": []
    },
    {
      "cell_type": "markdown",
      "metadata": {
        "id": "gTvf_Bx9ebf8",
        "colab_type": "text"
      },
      "source": [
        "Load Fashion MNIST through tf API call"
      ]
    },
    {
      "cell_type": "code",
      "metadata": {
        "id": "FvqJxbCsexIE",
        "colab_type": "code",
        "colab": {
          "base_uri": "https://localhost:8080/",
          "height": 151
        },
        "outputId": "54d75f6a-76cc-4dcb-d1e8-b413222dd725"
      },
      "source": [
        "ds = tf.keras.datasets.fashion_mnist\n",
        "(training_images, training_data),(test_images,test_data) = ds.load_data()"
      ],
      "execution_count": 2,
      "outputs": [
        {
          "output_type": "stream",
          "text": [
            "Downloading data from https://storage.googleapis.com/tensorflow/tf-keras-datasets/train-labels-idx1-ubyte.gz\n",
            "32768/29515 [=================================] - 0s 0us/step\n",
            "Downloading data from https://storage.googleapis.com/tensorflow/tf-keras-datasets/train-images-idx3-ubyte.gz\n",
            "26427392/26421880 [==============================] - 0s 0us/step\n",
            "Downloading data from https://storage.googleapis.com/tensorflow/tf-keras-datasets/t10k-labels-idx1-ubyte.gz\n",
            "8192/5148 [===============================================] - 0s 0us/step\n",
            "Downloading data from https://storage.googleapis.com/tensorflow/tf-keras-datasets/t10k-images-idx3-ubyte.gz\n",
            "4423680/4422102 [==============================] - 0s 0us/step\n"
          ],
          "name": "stdout"
        }
      ]
    },
    {
      "cell_type": "code",
      "metadata": {
        "id": "wPiZEuxrfkSV",
        "colab_type": "code",
        "colab": {
          "base_uri": "https://localhost:8080/",
          "height": 50
        },
        "outputId": "7bb9edd6-96fc-4216-cb16-0d12d96b7da0"
      },
      "source": [
        "print('Training Data size: {}'.format(len(training_images)))\n",
        "print('Test Data size: {}'.format(len(test_images)))"
      ],
      "execution_count": 3,
      "outputs": [
        {
          "output_type": "stream",
          "text": [
            "Training Data size: 60000\n",
            "Test Data size: 10000\n"
          ],
          "name": "stdout"
        }
      ]
    },
    {
      "cell_type": "code",
      "metadata": {
        "id": "HwmvnPE7lhCT",
        "colab_type": "code",
        "colab": {}
      },
      "source": [
        "class_names = ['Tshirt', 'Trouser', 'Pullover', 'Dress', 'Coat', 'Sandal', 'Shirt', 'Sneaker', 'Bag', 'Ankle Boot']"
      ],
      "execution_count": 4,
      "outputs": []
    },
    {
      "cell_type": "markdown",
      "metadata": {
        "id": "7qDv-xN17ar8",
        "colab_type": "text"
      },
      "source": [
        "Reshape for color depth"
      ]
    },
    {
      "cell_type": "code",
      "metadata": {
        "id": "B0soAfeq7fNx",
        "colab_type": "code",
        "colab": {}
      },
      "source": [
        "training_images = training_images.reshape(60000,28,28,1)\n",
        "test_images = test_images.reshape(10000,28,28,1)"
      ],
      "execution_count": 5,
      "outputs": []
    },
    {
      "cell_type": "markdown",
      "metadata": {
        "id": "Ao0hMmEQqddN",
        "colab_type": "text"
      },
      "source": [
        "Normalize data"
      ]
    },
    {
      "cell_type": "code",
      "metadata": {
        "id": "SnZNjzvOqgK5",
        "colab_type": "code",
        "colab": {}
      },
      "source": [
        "test_images = test_images/255.0\n",
        "training_images = training_images /255.0"
      ],
      "execution_count": 6,
      "outputs": []
    },
    {
      "cell_type": "markdown",
      "metadata": {
        "id": "x-IigArPsxCn",
        "colab_type": "text"
      },
      "source": [
        "Build CNN model"
      ]
    },
    {
      "cell_type": "code",
      "metadata": {
        "id": "PqoIaF39s1FI",
        "colab_type": "code",
        "colab": {}
      },
      "source": [
        "mod = tf.keras.models.Sequential([keras.layers.Conv2D(64,(3,3),padding='same',activation='relu',input_shape=(28,28,1)),\n",
        "                                  keras.layers.MaxPooling2D((2,2),strides=2),\n",
        "                                  keras.layers.Flatten(),\n",
        "                                  keras.layers.Dense(256, activation='relu'),\n",
        "                                  keras.layers.Dense(10, activation='softmax')])\n",
        "\n",
        "mod.compile(optimizer='adam',loss='sparse_categorical_crossentropy',metrics=['accuracy'])"
      ],
      "execution_count": 14,
      "outputs": []
    },
    {
      "cell_type": "markdown",
      "metadata": {
        "id": "0OWifiSP89Aa",
        "colab_type": "text"
      },
      "source": [
        "Model Summary"
      ]
    },
    {
      "cell_type": "code",
      "metadata": {
        "id": "XSG9ZHZT8_Vr",
        "colab_type": "code",
        "colab": {
          "base_uri": "https://localhost:8080/",
          "height": 319
        },
        "outputId": "57abdd8f-7e36-4eda-aac0-aad3fca85bab"
      },
      "source": [
        "mod.summary()"
      ],
      "execution_count": 15,
      "outputs": [
        {
          "output_type": "stream",
          "text": [
            "Model: \"sequential_2\"\n",
            "_________________________________________________________________\n",
            "Layer (type)                 Output Shape              Param #   \n",
            "=================================================================\n",
            "conv2d_2 (Conv2D)            (None, 28, 28, 64)        640       \n",
            "_________________________________________________________________\n",
            "max_pooling2d_2 (MaxPooling2 (None, 14, 14, 64)        0         \n",
            "_________________________________________________________________\n",
            "flatten_2 (Flatten)          (None, 12544)             0         \n",
            "_________________________________________________________________\n",
            "dense_4 (Dense)              (None, 256)               3211520   \n",
            "_________________________________________________________________\n",
            "dense_5 (Dense)              (None, 10)                2570      \n",
            "=================================================================\n",
            "Total params: 3,214,730\n",
            "Trainable params: 3,214,730\n",
            "Non-trainable params: 0\n",
            "_________________________________________________________________\n"
          ],
          "name": "stdout"
        }
      ]
    },
    {
      "cell_type": "markdown",
      "metadata": {
        "id": "nVhJ_FykuahU",
        "colab_type": "text"
      },
      "source": [
        "Train model"
      ]
    },
    {
      "cell_type": "code",
      "metadata": {
        "id": "hN2XMiwNucgx",
        "colab_type": "code",
        "colab": {
          "base_uri": "https://localhost:8080/",
          "height": 202
        },
        "outputId": "f82e6ecd-f1cd-4809-b911-16889903f5fc"
      },
      "source": [
        "mod.fit(training_images,training_data,epochs=5)"
      ],
      "execution_count": 16,
      "outputs": [
        {
          "output_type": "stream",
          "text": [
            "Epoch 1/5\n",
            "1875/1875 [==============================] - 11s 6ms/step - loss: 0.3625 - accuracy: 0.8705\n",
            "Epoch 2/5\n",
            "1875/1875 [==============================] - 10s 5ms/step - loss: 0.2411 - accuracy: 0.9108\n",
            "Epoch 3/5\n",
            "1875/1875 [==============================] - 10s 5ms/step - loss: 0.1933 - accuracy: 0.9284\n",
            "Epoch 4/5\n",
            "1875/1875 [==============================] - 10s 6ms/step - loss: 0.1585 - accuracy: 0.9401\n",
            "Epoch 5/5\n",
            "1875/1875 [==============================] - 11s 6ms/step - loss: 0.1296 - accuracy: 0.9518\n"
          ],
          "name": "stdout"
        },
        {
          "output_type": "execute_result",
          "data": {
            "text/plain": [
              "<tensorflow.python.keras.callbacks.History at 0x7fea9004dc50>"
            ]
          },
          "metadata": {
            "tags": []
          },
          "execution_count": 16
        }
      ]
    },
    {
      "cell_type": "markdown",
      "metadata": {
        "id": "ZMFWY1OGuz1S",
        "colab_type": "text"
      },
      "source": [
        "Evaluate the model"
      ]
    },
    {
      "cell_type": "code",
      "metadata": {
        "id": "IKA838k3u2uu",
        "colab_type": "code",
        "colab": {
          "base_uri": "https://localhost:8080/",
          "height": 50
        },
        "outputId": "3cee34b5-97ed-4848-a82a-d3ea74b50281"
      },
      "source": [
        "mod.evaluate(test_images,test_data)"
      ],
      "execution_count": 17,
      "outputs": [
        {
          "output_type": "stream",
          "text": [
            "313/313 [==============================] - 1s 3ms/step - loss: 0.2451 - accuracy: 0.9156\n"
          ],
          "name": "stdout"
        },
        {
          "output_type": "execute_result",
          "data": {
            "text/plain": [
              "[0.24508245289325714, 0.9156000018119812]"
            ]
          },
          "metadata": {
            "tags": []
          },
          "execution_count": 17
        }
      ]
    },
    {
      "cell_type": "markdown",
      "metadata": {
        "id": "BrCsDR4TxQgE",
        "colab_type": "text"
      },
      "source": [
        "Make predictions"
      ]
    },
    {
      "cell_type": "code",
      "metadata": {
        "id": "u6snfKFmxTQE",
        "colab_type": "code",
        "colab": {
          "base_uri": "https://localhost:8080/",
          "height": 101
        },
        "outputId": "6c9555de-400d-4afe-b706-2d418f9823f7"
      },
      "source": [
        "test_index = 1199\n",
        "test_img = test_images[test_index]\n",
        "prediction_results = mod.predict(ny.array([test_img]))\n",
        "print(prediction_results.shape)\n",
        "print(prediction_results[0])\n",
        "\n",
        "predicted_index = ny.argmax(prediction_results[0])\n",
        "\n",
        "print('Predicted index: '+str(predicted_index))\n",
        "print('Predicted class: '+class_names[predicted_index])"
      ],
      "execution_count": 18,
      "outputs": [
        {
          "output_type": "stream",
          "text": [
            "(1, 10)\n",
            "[4.1718963e-08 1.5960143e-08 3.3872116e-10 5.4300617e-09 6.2659575e-09\n",
            " 6.0152587e-08 3.5276679e-07 3.9869014e-11 9.9999952e-01 2.0343098e-12]\n",
            "Predicted index: 8\n",
            "Predicted class: Bag\n"
          ],
          "name": "stdout"
        }
      ]
    },
    {
      "cell_type": "markdown",
      "metadata": {
        "id": "sJdvdAEOzic_",
        "colab_type": "text"
      },
      "source": [
        "Actual result"
      ]
    },
    {
      "cell_type": "code",
      "metadata": {
        "id": "nFMpEcY3zlRg",
        "colab_type": "code",
        "colab": {
          "base_uri": "https://localhost:8080/",
          "height": 296
        },
        "outputId": "3792ecfe-ffa5-48ce-c75e-2e9051bd4787"
      },
      "source": [
        "actual_class = test_data[test_index]\n",
        "print('Actual class: '+class_names[actual_class])\n",
        "plt.figure()\n",
        "plt.imshow(test_img.squeeze(),cmap=plt.cm.binary)\n",
        "plt.xlabel(class_names[actual_class])\n",
        "plt.show()\n"
      ],
      "execution_count": 19,
      "outputs": [
        {
          "output_type": "stream",
          "text": [
            "Actual class: Bag\n"
          ],
          "name": "stdout"
        },
        {
          "output_type": "display_data",
          "data": {
            "image/png": "[encoded data removed]",
            "text/plain": [
              "<Figure size 432x288 with 1 Axes>"
            ]
          },
          "metadata": {
            "tags": [],
            "needs_background": "light"
          }
        }
      ]
    }
  ]
}